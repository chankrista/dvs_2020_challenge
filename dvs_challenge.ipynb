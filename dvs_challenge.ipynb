{
 "cells": [
  {
   "cell_type": "code",
   "execution_count": 67,
   "metadata": {},
   "outputs": [],
   "source": [
    "import pandas as pd\n",
    "import altair as alt"
   ]
  },
  {
   "cell_type": "code",
   "execution_count": 68,
   "metadata": {},
   "outputs": [],
   "source": [
    "data = pd.read_csv(\"DataVizCensus2020-AnonymizedResponses.csv\")"
   ]
  },
  {
   "cell_type": "code",
   "execution_count": 69,
   "metadata": {},
   "outputs": [],
   "source": [
    "pd.set_option(\"display.max_columns\", None)"
   ]
  },
  {
   "cell_type": "code",
   "execution_count": 70,
   "metadata": {},
   "outputs": [],
   "source": [
    "data.rename(columns={'How many years of professional experience do you have?': 'Experience',\n",
    "                     'What is your yearly pay (converted to US dollars)?': 'Yearly Pay (USD)'}, inplace=True)"
   ]
  },
  {
   "cell_type": "code",
   "execution_count": 71,
   "metadata": {},
   "outputs": [],
   "source": [
    "data.loc[(data['Yearly Pay (USD)'] == \"Less than $20,000\"), 'Yearly Pay (USD)'] = 'Less than $40,000'\n",
    "data.loc[(data['Yearly Pay (USD)'] == \"$20,000 - $39,000\"), 'Yearly Pay (USD)'] = 'Less than $40,000'\n",
    "data.loc[(data['Yearly Pay (USD)'] == \"$40,000 - $59,000\"), 'Yearly Pay (USD)'] = '$40,000-$79,000'\n",
    "data.loc[(data['Yearly Pay (USD)'] == \"$60,000 - $79,000\"), 'Yearly Pay (USD)'] = '$40,000-$79,000'\n",
    "data.loc[(data['Yearly Pay (USD)'] == \"$80,000 - $99,000\"), 'Yearly Pay (USD)'] = '$80,000-$119,000'\n",
    "data.loc[(data['Yearly Pay (USD)'] == \"$100,000 - $119,000\"), 'Yearly Pay (USD)'] = '$80,000-$119,000'\n",
    "data.loc[(data['Yearly Pay (USD)'] == \"$120,000 - $139,000\"), 'Yearly Pay (USD)'] = '$120,000-$179,000'\n",
    "data.loc[(data['Yearly Pay (USD)'] == \"$140,000 - $159,000\"), 'Yearly Pay (USD)'] = '$120,000-$179,000'\n",
    "data.loc[(data['Yearly Pay (USD)'] == \"$160,000 - $179,000\"), 'Yearly Pay (USD)'] = '$120,000-$179,000'\n",
    "data.loc[(data['Yearly Pay (USD)'] == \"$180,000 - $199,000\"), 'Yearly Pay (USD)'] = 'More than $180,000'\n",
    "data.loc[(data['Yearly Pay (USD)'] == \"$200,000 - $219,000\"), 'Yearly Pay (USD)'] = 'More than $180,000'\n",
    "data.loc[(data['Yearly Pay (USD)'] == \"$220,000 - $239,000\"), 'Yearly Pay (USD)'] = 'More than $180,000'\n",
    "data.loc[(data['Yearly Pay (USD)'] == \"More than $240,000\"), 'Yearly Pay (USD)'] = 'More than $180,000'"
   ]
  },
  {
   "cell_type": "code",
   "execution_count": 72,
   "metadata": {},
   "outputs": [],
   "source": [
    "data.loc[(data['Experience'] == '21-25') | (data.Experience == '26-30'), 'Experience'] = '21-30'"
   ]
  },
  {
   "cell_type": "code",
   "execution_count": 73,
   "metadata": {},
   "outputs": [],
   "source": [
    "data.loc[(data['Yearly Pay (USD)']=='Less than $40,000'), 'order'] = 0\n",
    "data.loc[(data['Yearly Pay (USD)']=='$40,000-$79,000'), 'order'] = 1\n",
    "data.loc[(data['Yearly Pay (USD)']=='$80,000-$119,000'), 'order'] = 2\n",
    "data.loc[(data['Yearly Pay (USD)']=='$120,000-$179,000'), 'order'] = 3\n",
    "data.loc[(data['Yearly Pay (USD)']=='More than $180,000'), 'order'] = 4"
   ]
  },
  {
   "cell_type": "code",
   "execution_count": 74,
   "metadata": {},
   "outputs": [],
   "source": [
    "data.rename(columns={'gender_collapsed': 'Gender'}, inplace=True)"
   ]
  },
  {
   "cell_type": "code",
   "execution_count": 151,
   "metadata": {},
   "outputs": [
    {
     "data": {
      "text/html": [
       "<style>\n",
       "@import url('https://fonts.googleapis.com/css2?family=Jost&display=swap');\n",
       "</style>\n"
      ],
      "text/plain": [
       "<IPython.core.display.HTML object>"
      ]
     },
     "metadata": {},
     "output_type": "display_data"
    }
   ],
   "source": [
    "%%html\n",
    "<style>\n",
    "@import url('https://fonts.googleapis.com/css2?family=Jost&display=swap');\n",
    "</style>"
   ]
  },
  {
   "cell_type": "code",
   "execution_count": 152,
   "metadata": {},
   "outputs": [
    {
     "data": {
      "text/plain": [
       "ThemeRegistry.enable('contest_theme')"
      ]
     },
     "execution_count": 152,
     "metadata": {},
     "output_type": "execute_result"
    }
   ],
   "source": [
    "def contest_theme():\n",
    "    return {\n",
    "        'config': {\n",
    "            'view': {\n",
    "                'height': 300,\n",
    "                'width': 250,\n",
    "            },\n",
    "            'mark': {\n",
    "                'color': 'black',\n",
    "                'fill': 'black'\n",
    "            },\n",
    "            'font': 'Jost'\n",
    "        }\n",
    "    }\n",
    "# register the custom theme under a chosen name\n",
    "alt.themes.register('contest_theme', contest_theme)\n",
    "# enable the newly registered theme\n",
    "alt.themes.enable('contest_theme')"
   ]
  },
  {
   "cell_type": "code",
   "execution_count": 76,
   "metadata": {},
   "outputs": [],
   "source": [
    "domain = ['Less than $40,000',\n",
    "          '$40,000-$79,000',\n",
    "          '$80,000-$119,000',\n",
    "          '$120,000-$179,000',\n",
    "          'More than $180,000']\n",
    "colors = ['#afff6a', '#8dd951', '#6cb337', '#4c8f1e', '#2d6d00']"
   ]
  },
  {
   "cell_type": "code",
   "execution_count": 161,
   "metadata": {},
   "outputs": [],
   "source": [
    "data.loc[data.Gender == 'Woman', 'Gender'] = 'Woman, NB/Trans'\n",
    "data.loc[data.Gender == 'NB/Trans', 'Gender'] = 'Woman, NB/Trans'"
   ]
  },
  {
   "cell_type": "code",
   "execution_count": 162,
   "metadata": {},
   "outputs": [],
   "source": [
    "def make_chart(data, f=None):\n",
    "    groups = ['Experience', 'order', 'Yearly Pay (USD)']\n",
    "    t = ['Experience', 'Yearly Pay (USD)', 'sum(respondents)', alt.Tooltip('Percentage of respondents', format='.1%')]\n",
    "    denom = ['Experience']\n",
    "    if f:\n",
    "        groups.append(f)\n",
    "        t = [f] + t\n",
    "        denom.append(f)\n",
    "    summary = data.groupby(groups).size().reset_index().rename(\n",
    "        columns={0: 'respondents'})\n",
    "    pct = (data.groupby(groups).size() / data.groupby(denom).size()).reset_index().rename(\n",
    "            columns={0: 'Percentage of respondents'})\n",
    "    summary = summary.merge(pct, on=groups)\n",
    "    x_axis = alt.X('Experience', sort=['5 or less', '5-10', '11-15', '16-20', '21-30'])\n",
    "    y_axis = alt.Y('sum(respondents)', stack=\"normalize\", axis=alt.Axis(format='%'), title='Percentage of respondents')\n",
    "    color_legend = alt.Color('Yearly Pay (USD)',\n",
    "                             scale=alt.Scale(domain=domain, range=colors),\n",
    "                             sort=domain)\n",
    "    if f:\n",
    "        return alt.Chart(summary[summary['Yearly Pay (USD)'].notnull()]).mark_bar(size=35).encode(\n",
    "            x=x_axis,\n",
    "            y=y_axis,\n",
    "            color=color_legend,\n",
    "            order=alt.Order('order'),\n",
    "            tooltip=t,\n",
    "            facet=f\n",
    "        )\n",
    "    else:\n",
    "        return alt.Chart(summary[summary['Yearly Pay (USD)'].notnull()]).mark_bar(size=35).encode(\n",
    "            x=x_axis,\n",
    "            y=y_axis,\n",
    "            color=color_legend,\n",
    "            order=alt.Order('order'),\n",
    "            tooltip=t\n",
    "        )"
   ]
  },
  {
   "cell_type": "code",
   "execution_count": 165,
   "metadata": {},
   "outputs": [],
   "source": [
    "chart = make_chart(data)"
   ]
  },
  {
   "cell_type": "code",
   "execution_count": 166,
   "metadata": {},
   "outputs": [],
   "source": [
    "chart.save('overall.html')"
   ]
  },
  {
   "cell_type": "code",
   "execution_count": 167,
   "metadata": {},
   "outputs": [],
   "source": [
    "gender = make_chart(data, f='Gender')"
   ]
  },
  {
   "cell_type": "code",
   "execution_count": 168,
   "metadata": {},
   "outputs": [],
   "source": [
    "gender.save('gender.html')"
   ]
  },
  {
   "cell_type": "code",
   "execution_count": 169,
   "metadata": {},
   "outputs": [],
   "source": [
    "underrep = make_chart(data, f='Do you consider yourself a member of a historically disadvantaged or underrepresented racial or ethnic group?')"
   ]
  },
  {
   "cell_type": "code",
   "execution_count": 170,
   "metadata": {},
   "outputs": [],
   "source": [
    "underrep.save('underrep.html')"
   ]
  },
  {
   "cell_type": "code",
   "execution_count": 158,
   "metadata": {},
   "outputs": [],
   "source": [
    "education_dropped = data.loc[data.apply(\n",
    "    lambda x: x['What is the highest level of education you have completed?'] in ['Bachelors Degree',\n",
    "                                                                                 'Masters Degree (or similar graduate degree)',\n",
    "                                                                                 'Ph.D.'], axis=1)]"
   ]
  },
  {
   "cell_type": "code",
   "execution_count": 171,
   "metadata": {},
   "outputs": [],
   "source": [
    "education = make_chart(education_dropped, f='What is the highest level of education you have completed?')"
   ]
  },
  {
   "cell_type": "code",
   "execution_count": 172,
   "metadata": {},
   "outputs": [],
   "source": [
    "education.save('education.html')"
   ]
  },
  {
   "cell_type": "markdown",
   "metadata": {},
   "source": [
    "# Making Gain$ in Data Viz"
   ]
  },
  {
   "cell_type": "markdown",
   "metadata": {},
   "source": [
    "Respondents with more years of professional experience tend to have higher salaries, but how does that trend vary across other factors?"
   ]
  },
  {
   "cell_type": "code",
   "execution_count": 173,
   "metadata": {},
   "outputs": [
    {
     "data": {
      "text/html": [
       "\n",
       "<div id=\"altair-viz-99d965b6838143b79464efd9694185f6\"></div>\n",
       "<script type=\"text/javascript\">\n",
       "  (function(spec, embedOpt){\n",
       "    let outputDiv = document.currentScript.previousElementSibling;\n",
       "    if (outputDiv.id !== \"altair-viz-99d965b6838143b79464efd9694185f6\") {\n",
       "      outputDiv = document.getElementById(\"altair-viz-99d965b6838143b79464efd9694185f6\");\n",
       "    }\n",
       "    const paths = {\n",
       "      \"vega\": \"https://cdn.jsdelivr.net/npm//vega@5?noext\",\n",
       "      \"vega-lib\": \"https://cdn.jsdelivr.net/npm//vega-lib?noext\",\n",
       "      \"vega-lite\": \"https://cdn.jsdelivr.net/npm//vega-lite@4.8.1?noext\",\n",
       "      \"vega-embed\": \"https://cdn.jsdelivr.net/npm//vega-embed@6?noext\",\n",
       "    };\n",
       "\n",
       "    function loadScript(lib) {\n",
       "      return new Promise(function(resolve, reject) {\n",
       "        var s = document.createElement('script');\n",
       "        s.src = paths[lib];\n",
       "        s.async = true;\n",
       "        s.onload = () => resolve(paths[lib]);\n",
       "        s.onerror = () => reject(`Error loading script: ${paths[lib]}`);\n",
       "        document.getElementsByTagName(\"head\")[0].appendChild(s);\n",
       "      });\n",
       "    }\n",
       "\n",
       "    function showError(err) {\n",
       "      outputDiv.innerHTML = `<div class=\"error\" style=\"color:red;\">${err}</div>`;\n",
       "      throw err;\n",
       "    }\n",
       "\n",
       "    function displayChart(vegaEmbed) {\n",
       "      vegaEmbed(outputDiv, spec, embedOpt)\n",
       "        .catch(err => showError(`Javascript Error: ${err.message}<br>This usually means there's a typo in your chart specification. See the javascript console for the full traceback.`));\n",
       "    }\n",
       "\n",
       "    if(typeof define === \"function\" && define.amd) {\n",
       "      requirejs.config({paths});\n",
       "      require([\"vega-embed\"], displayChart, err => showError(`Error loading script: ${err.message}`));\n",
       "    } else if (typeof vegaEmbed === \"function\") {\n",
       "      displayChart(vegaEmbed);\n",
       "    } else {\n",
       "      loadScript(\"vega\")\n",
       "        .then(() => loadScript(\"vega-lite\"))\n",
       "        .then(() => loadScript(\"vega-embed\"))\n",
       "        .catch(showError)\n",
       "        .then(() => displayChart(vegaEmbed));\n",
       "    }\n",
       "  })({\"config\": {\"view\": {\"height\": 300, \"width\": 250}, \"mark\": {\"color\": \"black\", \"fill\": \"black\"}, \"font\": \"Jost\"}, \"data\": {\"name\": \"data-c9471d2384be9dbc3f6e5766d6e1879e\"}, \"mark\": {\"type\": \"bar\", \"size\": 35}, \"encoding\": {\"color\": {\"type\": \"nominal\", \"field\": \"Yearly Pay (USD)\", \"scale\": {\"domain\": [\"Less than $40,000\", \"$40,000-$79,000\", \"$80,000-$119,000\", \"$120,000-$179,000\", \"More than $180,000\"], \"range\": [\"#afff6a\", \"#8dd951\", \"#6cb337\", \"#4c8f1e\", \"#2d6d00\"]}, \"sort\": [\"Less than $40,000\", \"$40,000-$79,000\", \"$80,000-$119,000\", \"$120,000-$179,000\", \"More than $180,000\"]}, \"order\": {\"type\": \"quantitative\", \"field\": \"order\"}, \"tooltip\": [{\"type\": \"nominal\", \"field\": \"Experience\"}, {\"type\": \"nominal\", \"field\": \"Yearly Pay (USD)\"}, {\"type\": \"quantitative\", \"aggregate\": \"sum\", \"field\": \"respondents\"}, {\"type\": \"quantitative\", \"field\": \"Percentage of respondents\", \"format\": \".1%\"}], \"x\": {\"type\": \"nominal\", \"field\": \"Experience\", \"sort\": [\"5 or less\", \"5-10\", \"11-15\", \"16-20\", \"21-30\"]}, \"y\": {\"type\": \"quantitative\", \"aggregate\": \"sum\", \"axis\": {\"format\": \"%\"}, \"field\": \"respondents\", \"stack\": \"normalize\", \"title\": \"Percentage of respondents\"}}, \"$schema\": \"https://vega.github.io/schema/vega-lite/v4.8.1.json\", \"datasets\": {\"data-c9471d2384be9dbc3f6e5766d6e1879e\": [{\"Experience\": \"11-15\", \"order\": 0.0, \"Yearly Pay (USD)\": \"Less than $40,000\", \"respondents\": 31, \"Percentage of respondents\": 0.10508474576271186}, {\"Experience\": \"11-15\", \"order\": 1.0, \"Yearly Pay (USD)\": \"$40,000-$79,000\", \"respondents\": 47, \"Percentage of respondents\": 0.15932203389830507}, {\"Experience\": \"11-15\", \"order\": 2.0, \"Yearly Pay (USD)\": \"$80,000-$119,000\", \"respondents\": 62, \"Percentage of respondents\": 0.21016949152542372}, {\"Experience\": \"11-15\", \"order\": 3.0, \"Yearly Pay (USD)\": \"$120,000-$179,000\", \"respondents\": 28, \"Percentage of respondents\": 0.09491525423728814}, {\"Experience\": \"11-15\", \"order\": 4.0, \"Yearly Pay (USD)\": \"More than $180,000\", \"respondents\": 8, \"Percentage of respondents\": 0.02711864406779661}, {\"Experience\": \"16-20\", \"order\": 0.0, \"Yearly Pay (USD)\": \"Less than $40,000\", \"respondents\": 19, \"Percentage of respondents\": 0.0945273631840796}, {\"Experience\": \"16-20\", \"order\": 1.0, \"Yearly Pay (USD)\": \"$40,000-$79,000\", \"respondents\": 36, \"Percentage of respondents\": 0.1791044776119403}, {\"Experience\": \"16-20\", \"order\": 2.0, \"Yearly Pay (USD)\": \"$80,000-$119,000\", \"respondents\": 46, \"Percentage of respondents\": 0.22885572139303484}, {\"Experience\": \"16-20\", \"order\": 3.0, \"Yearly Pay (USD)\": \"$120,000-$179,000\", \"respondents\": 31, \"Percentage of respondents\": 0.15422885572139303}, {\"Experience\": \"16-20\", \"order\": 4.0, \"Yearly Pay (USD)\": \"More than $180,000\", \"respondents\": 10, \"Percentage of respondents\": 0.04975124378109453}, {\"Experience\": \"21-30\", \"order\": 0.0, \"Yearly Pay (USD)\": \"Less than $40,000\", \"respondents\": 9, \"Percentage of respondents\": 0.057692307692307696}, {\"Experience\": \"21-30\", \"order\": 1.0, \"Yearly Pay (USD)\": \"$40,000-$79,000\", \"respondents\": 22, \"Percentage of respondents\": 0.14102564102564102}, {\"Experience\": \"21-30\", \"order\": 2.0, \"Yearly Pay (USD)\": \"$80,000-$119,000\", \"respondents\": 34, \"Percentage of respondents\": 0.21794871794871795}, {\"Experience\": \"21-30\", \"order\": 3.0, \"Yearly Pay (USD)\": \"$120,000-$179,000\", \"respondents\": 24, \"Percentage of respondents\": 0.15384615384615385}, {\"Experience\": \"21-30\", \"order\": 4.0, \"Yearly Pay (USD)\": \"More than $180,000\", \"respondents\": 11, \"Percentage of respondents\": 0.07051282051282051}, {\"Experience\": \"5 or less\", \"order\": 0.0, \"Yearly Pay (USD)\": \"Less than $40,000\", \"respondents\": 102, \"Percentage of respondents\": 0.18181818181818182}, {\"Experience\": \"5 or less\", \"order\": 1.0, \"Yearly Pay (USD)\": \"$40,000-$79,000\", \"respondents\": 128, \"Percentage of respondents\": 0.2281639928698752}, {\"Experience\": \"5 or less\", \"order\": 2.0, \"Yearly Pay (USD)\": \"$80,000-$119,000\", \"respondents\": 46, \"Percentage of respondents\": 0.08199643493761141}, {\"Experience\": \"5 or less\", \"order\": 3.0, \"Yearly Pay (USD)\": \"$120,000-$179,000\", \"respondents\": 10, \"Percentage of respondents\": 0.017825311942959002}, {\"Experience\": \"5 or less\", \"order\": 4.0, \"Yearly Pay (USD)\": \"More than $180,000\", \"respondents\": 3, \"Percentage of respondents\": 0.0053475935828877}, {\"Experience\": \"5-10\", \"order\": 0.0, \"Yearly Pay (USD)\": \"Less than $40,000\", \"respondents\": 47, \"Percentage of respondents\": 0.09978768577494693}, {\"Experience\": \"5-10\", \"order\": 1.0, \"Yearly Pay (USD)\": \"$40,000-$79,000\", \"respondents\": 127, \"Percentage of respondents\": 0.26963906581740976}, {\"Experience\": \"5-10\", \"order\": 2.0, \"Yearly Pay (USD)\": \"$80,000-$119,000\", \"respondents\": 97, \"Percentage of respondents\": 0.2059447983014862}, {\"Experience\": \"5-10\", \"order\": 3.0, \"Yearly Pay (USD)\": \"$120,000-$179,000\", \"respondents\": 33, \"Percentage of respondents\": 0.07006369426751592}, {\"Experience\": \"5-10\", \"order\": 4.0, \"Yearly Pay (USD)\": \"More than $180,000\", \"respondents\": 3, \"Percentage of respondents\": 0.006369426751592357}]}}, {\"mode\": \"vega-lite\"});\n",
       "</script>"
      ],
      "text/plain": [
       "alt.Chart(...)"
      ]
     },
     "execution_count": 173,
     "metadata": {},
     "output_type": "execute_result"
    }
   ],
   "source": [
    "chart"
   ]
  },
  {
   "cell_type": "markdown",
   "metadata": {},
   "source": [
    "### By Gender"
   ]
  },
  {
   "cell_type": "markdown",
   "metadata": {},
   "source": [
    "We similar a similar pattern amongst male respondents. However, women and nonbinary/trans respondents do not see the same salary gains with experience as their male counterparts."
   ]
  },
  {
   "cell_type": "code",
   "execution_count": 174,
   "metadata": {
    "scrolled": true
   },
   "outputs": [
    {
     "data": {
      "text/html": [
       "\n",
       "<div id=\"altair-viz-31cc2f03aed84513b48a1dbf5d6fb819\"></div>\n",
       "<script type=\"text/javascript\">\n",
       "  (function(spec, embedOpt){\n",
       "    let outputDiv = document.currentScript.previousElementSibling;\n",
       "    if (outputDiv.id !== \"altair-viz-31cc2f03aed84513b48a1dbf5d6fb819\") {\n",
       "      outputDiv = document.getElementById(\"altair-viz-31cc2f03aed84513b48a1dbf5d6fb819\");\n",
       "    }\n",
       "    const paths = {\n",
       "      \"vega\": \"https://cdn.jsdelivr.net/npm//vega@5?noext\",\n",
       "      \"vega-lib\": \"https://cdn.jsdelivr.net/npm//vega-lib?noext\",\n",
       "      \"vega-lite\": \"https://cdn.jsdelivr.net/npm//vega-lite@4.8.1?noext\",\n",
       "      \"vega-embed\": \"https://cdn.jsdelivr.net/npm//vega-embed@6?noext\",\n",
       "    };\n",
       "\n",
       "    function loadScript(lib) {\n",
       "      return new Promise(function(resolve, reject) {\n",
       "        var s = document.createElement('script');\n",
       "        s.src = paths[lib];\n",
       "        s.async = true;\n",
       "        s.onload = () => resolve(paths[lib]);\n",
       "        s.onerror = () => reject(`Error loading script: ${paths[lib]}`);\n",
       "        document.getElementsByTagName(\"head\")[0].appendChild(s);\n",
       "      });\n",
       "    }\n",
       "\n",
       "    function showError(err) {\n",
       "      outputDiv.innerHTML = `<div class=\"error\" style=\"color:red;\">${err}</div>`;\n",
       "      throw err;\n",
       "    }\n",
       "\n",
       "    function displayChart(vegaEmbed) {\n",
       "      vegaEmbed(outputDiv, spec, embedOpt)\n",
       "        .catch(err => showError(`Javascript Error: ${err.message}<br>This usually means there's a typo in your chart specification. See the javascript console for the full traceback.`));\n",
       "    }\n",
       "\n",
       "    if(typeof define === \"function\" && define.amd) {\n",
       "      requirejs.config({paths});\n",
       "      require([\"vega-embed\"], displayChart, err => showError(`Error loading script: ${err.message}`));\n",
       "    } else if (typeof vegaEmbed === \"function\") {\n",
       "      displayChart(vegaEmbed);\n",
       "    } else {\n",
       "      loadScript(\"vega\")\n",
       "        .then(() => loadScript(\"vega-lite\"))\n",
       "        .then(() => loadScript(\"vega-embed\"))\n",
       "        .catch(showError)\n",
       "        .then(() => displayChart(vegaEmbed));\n",
       "    }\n",
       "  })({\"config\": {\"view\": {\"height\": 300, \"width\": 250}, \"mark\": {\"color\": \"black\", \"fill\": \"black\"}, \"font\": \"Jost\"}, \"data\": {\"name\": \"data-71576f6939353d6b6296c77cab75b874\"}, \"mark\": {\"type\": \"bar\", \"size\": 35}, \"encoding\": {\"color\": {\"type\": \"nominal\", \"field\": \"Yearly Pay (USD)\", \"scale\": {\"domain\": [\"Less than $40,000\", \"$40,000-$79,000\", \"$80,000-$119,000\", \"$120,000-$179,000\", \"More than $180,000\"], \"range\": [\"#afff6a\", \"#8dd951\", \"#6cb337\", \"#4c8f1e\", \"#2d6d00\"]}, \"sort\": [\"Less than $40,000\", \"$40,000-$79,000\", \"$80,000-$119,000\", \"$120,000-$179,000\", \"More than $180,000\"]}, \"facet\": {\"type\": \"nominal\", \"field\": \"Gender\"}, \"order\": {\"type\": \"quantitative\", \"field\": \"order\"}, \"tooltip\": [{\"type\": \"nominal\", \"field\": \"Gender\"}, {\"type\": \"nominal\", \"field\": \"Experience\"}, {\"type\": \"nominal\", \"field\": \"Yearly Pay (USD)\"}, {\"type\": \"quantitative\", \"aggregate\": \"sum\", \"field\": \"respondents\"}, {\"type\": \"quantitative\", \"field\": \"Percentage of respondents\", \"format\": \".1%\"}], \"x\": {\"type\": \"nominal\", \"field\": \"Experience\", \"sort\": [\"5 or less\", \"5-10\", \"11-15\", \"16-20\", \"21-30\"]}, \"y\": {\"type\": \"quantitative\", \"aggregate\": \"sum\", \"axis\": {\"format\": \"%\"}, \"field\": \"respondents\", \"stack\": \"normalize\", \"title\": \"Percentage of respondents\"}}, \"$schema\": \"https://vega.github.io/schema/vega-lite/v4.8.1.json\", \"datasets\": {\"data-71576f6939353d6b6296c77cab75b874\": [{\"Experience\": \"11-15\", \"order\": 0.0, \"Yearly Pay (USD)\": \"Less than $40,000\", \"Gender\": \"Man\", \"respondents\": 16, \"Percentage of respondents\": 0.10596026490066225}, {\"Experience\": \"11-15\", \"order\": 0.0, \"Yearly Pay (USD)\": \"Less than $40,000\", \"Gender\": \"Woman, NB/Trans\", \"respondents\": 15, \"Percentage of respondents\": 0.12096774193548387}, {\"Experience\": \"11-15\", \"order\": 1.0, \"Yearly Pay (USD)\": \"$40,000-$79,000\", \"Gender\": \"Man\", \"respondents\": 24, \"Percentage of respondents\": 0.15894039735099338}, {\"Experience\": \"11-15\", \"order\": 1.0, \"Yearly Pay (USD)\": \"$40,000-$79,000\", \"Gender\": \"Woman, NB/Trans\", \"respondents\": 22, \"Percentage of respondents\": 0.1774193548387097}, {\"Experience\": \"11-15\", \"order\": 2.0, \"Yearly Pay (USD)\": \"$80,000-$119,000\", \"Gender\": \"Man\", \"respondents\": 30, \"Percentage of respondents\": 0.1986754966887417}, {\"Experience\": \"11-15\", \"order\": 2.0, \"Yearly Pay (USD)\": \"$80,000-$119,000\", \"Gender\": \"Woman, NB/Trans\", \"respondents\": 32, \"Percentage of respondents\": 0.25806451612903225}, {\"Experience\": \"11-15\", \"order\": 3.0, \"Yearly Pay (USD)\": \"$120,000-$179,000\", \"Gender\": \"Man\", \"respondents\": 20, \"Percentage of respondents\": 0.13245033112582782}, {\"Experience\": \"11-15\", \"order\": 3.0, \"Yearly Pay (USD)\": \"$120,000-$179,000\", \"Gender\": \"Woman, NB/Trans\", \"respondents\": 8, \"Percentage of respondents\": 0.06451612903225806}, {\"Experience\": \"11-15\", \"order\": 4.0, \"Yearly Pay (USD)\": \"More than $180,000\", \"Gender\": \"Man\", \"respondents\": 6, \"Percentage of respondents\": 0.039735099337748346}, {\"Experience\": \"11-15\", \"order\": 4.0, \"Yearly Pay (USD)\": \"More than $180,000\", \"Gender\": \"Woman, NB/Trans\", \"respondents\": 2, \"Percentage of respondents\": 0.016129032258064516}, {\"Experience\": \"16-20\", \"order\": 0.0, \"Yearly Pay (USD)\": \"Less than $40,000\", \"Gender\": \"Man\", \"respondents\": 14, \"Percentage of respondents\": 0.10852713178294573}, {\"Experience\": \"16-20\", \"order\": 0.0, \"Yearly Pay (USD)\": \"Less than $40,000\", \"Gender\": \"Woman, NB/Trans\", \"respondents\": 5, \"Percentage of respondents\": 0.08620689655172414}, {\"Experience\": \"16-20\", \"order\": 1.0, \"Yearly Pay (USD)\": \"$40,000-$79,000\", \"Gender\": \"Man\", \"respondents\": 17, \"Percentage of respondents\": 0.13178294573643412}, {\"Experience\": \"16-20\", \"order\": 1.0, \"Yearly Pay (USD)\": \"$40,000-$79,000\", \"Gender\": \"Woman, NB/Trans\", \"respondents\": 19, \"Percentage of respondents\": 0.3275862068965517}, {\"Experience\": \"16-20\", \"order\": 2.0, \"Yearly Pay (USD)\": \"$80,000-$119,000\", \"Gender\": \"Man\", \"respondents\": 33, \"Percentage of respondents\": 0.2558139534883721}, {\"Experience\": \"16-20\", \"order\": 2.0, \"Yearly Pay (USD)\": \"$80,000-$119,000\", \"Gender\": \"Woman, NB/Trans\", \"respondents\": 11, \"Percentage of respondents\": 0.1896551724137931}, {\"Experience\": \"16-20\", \"order\": 3.0, \"Yearly Pay (USD)\": \"$120,000-$179,000\", \"Gender\": \"Man\", \"respondents\": 18, \"Percentage of respondents\": 0.13953488372093023}, {\"Experience\": \"16-20\", \"order\": 3.0, \"Yearly Pay (USD)\": \"$120,000-$179,000\", \"Gender\": \"Woman, NB/Trans\", \"respondents\": 12, \"Percentage of respondents\": 0.20689655172413793}, {\"Experience\": \"16-20\", \"order\": 4.0, \"Yearly Pay (USD)\": \"More than $180,000\", \"Gender\": \"Man\", \"respondents\": 9, \"Percentage of respondents\": 0.06976744186046512}, {\"Experience\": \"16-20\", \"order\": 4.0, \"Yearly Pay (USD)\": \"More than $180,000\", \"Gender\": \"Woman, NB/Trans\", \"respondents\": 1, \"Percentage of respondents\": 0.017241379310344827}, {\"Experience\": \"21-30\", \"order\": 0.0, \"Yearly Pay (USD)\": \"Less than $40,000\", \"Gender\": \"Man\", \"respondents\": 7, \"Percentage of respondents\": 0.0707070707070707}, {\"Experience\": \"21-30\", \"order\": 0.0, \"Yearly Pay (USD)\": \"Less than $40,000\", \"Gender\": \"Woman, NB/Trans\", \"respondents\": 1, \"Percentage of respondents\": 0.02127659574468085}, {\"Experience\": \"21-30\", \"order\": 1.0, \"Yearly Pay (USD)\": \"$40,000-$79,000\", \"Gender\": \"Man\", \"respondents\": 13, \"Percentage of respondents\": 0.13131313131313133}, {\"Experience\": \"21-30\", \"order\": 1.0, \"Yearly Pay (USD)\": \"$40,000-$79,000\", \"Gender\": \"Woman, NB/Trans\", \"respondents\": 9, \"Percentage of respondents\": 0.19148936170212766}, {\"Experience\": \"21-30\", \"order\": 2.0, \"Yearly Pay (USD)\": \"$80,000-$119,000\", \"Gender\": \"Man\", \"respondents\": 20, \"Percentage of respondents\": 0.20202020202020202}, {\"Experience\": \"21-30\", \"order\": 2.0, \"Yearly Pay (USD)\": \"$80,000-$119,000\", \"Gender\": \"Woman, NB/Trans\", \"respondents\": 14, \"Percentage of respondents\": 0.2978723404255319}, {\"Experience\": \"21-30\", \"order\": 3.0, \"Yearly Pay (USD)\": \"$120,000-$179,000\", \"Gender\": \"Man\", \"respondents\": 17, \"Percentage of respondents\": 0.1717171717171717}, {\"Experience\": \"21-30\", \"order\": 3.0, \"Yearly Pay (USD)\": \"$120,000-$179,000\", \"Gender\": \"Woman, NB/Trans\", \"respondents\": 6, \"Percentage of respondents\": 0.1276595744680851}, {\"Experience\": \"21-30\", \"order\": 4.0, \"Yearly Pay (USD)\": \"More than $180,000\", \"Gender\": \"Man\", \"respondents\": 10, \"Percentage of respondents\": 0.10101010101010101}, {\"Experience\": \"21-30\", \"order\": 4.0, \"Yearly Pay (USD)\": \"More than $180,000\", \"Gender\": \"Woman, NB/Trans\", \"respondents\": 1, \"Percentage of respondents\": 0.02127659574468085}, {\"Experience\": \"5 or less\", \"order\": 0.0, \"Yearly Pay (USD)\": \"Less than $40,000\", \"Gender\": \"Man\", \"respondents\": 48, \"Percentage of respondents\": 0.20168067226890757}, {\"Experience\": \"5 or less\", \"order\": 0.0, \"Yearly Pay (USD)\": \"Less than $40,000\", \"Gender\": \"Woman, NB/Trans\", \"respondents\": 51, \"Percentage of respondents\": 0.1969111969111969}, {\"Experience\": \"5 or less\", \"order\": 1.0, \"Yearly Pay (USD)\": \"$40,000-$79,000\", \"Gender\": \"Man\", \"respondents\": 54, \"Percentage of respondents\": 0.226890756302521}, {\"Experience\": \"5 or less\", \"order\": 1.0, \"Yearly Pay (USD)\": \"$40,000-$79,000\", \"Gender\": \"Woman, NB/Trans\", \"respondents\": 74, \"Percentage of respondents\": 0.2857142857142857}, {\"Experience\": \"5 or less\", \"order\": 2.0, \"Yearly Pay (USD)\": \"$80,000-$119,000\", \"Gender\": \"Man\", \"respondents\": 20, \"Percentage of respondents\": 0.08403361344537816}, {\"Experience\": \"5 or less\", \"order\": 2.0, \"Yearly Pay (USD)\": \"$80,000-$119,000\", \"Gender\": \"Woman, NB/Trans\", \"respondents\": 25, \"Percentage of respondents\": 0.09652509652509653}, {\"Experience\": \"5 or less\", \"order\": 3.0, \"Yearly Pay (USD)\": \"$120,000-$179,000\", \"Gender\": \"Man\", \"respondents\": 8, \"Percentage of respondents\": 0.03361344537815126}, {\"Experience\": \"5 or less\", \"order\": 3.0, \"Yearly Pay (USD)\": \"$120,000-$179,000\", \"Gender\": \"Woman, NB/Trans\", \"respondents\": 1, \"Percentage of respondents\": 0.003861003861003861}, {\"Experience\": \"5 or less\", \"order\": 4.0, \"Yearly Pay (USD)\": \"More than $180,000\", \"Gender\": \"Man\", \"respondents\": 1, \"Percentage of respondents\": 0.004201680672268907}, {\"Experience\": \"5 or less\", \"order\": 4.0, \"Yearly Pay (USD)\": \"More than $180,000\", \"Gender\": \"Woman, NB/Trans\", \"respondents\": 2, \"Percentage of respondents\": 0.007722007722007722}, {\"Experience\": \"5-10\", \"order\": 0.0, \"Yearly Pay (USD)\": \"Less than $40,000\", \"Gender\": \"Man\", \"respondents\": 30, \"Percentage of respondents\": 0.12658227848101267}, {\"Experience\": \"5-10\", \"order\": 0.0, \"Yearly Pay (USD)\": \"Less than $40,000\", \"Gender\": \"Woman, NB/Trans\", \"respondents\": 17, \"Percentage of respondents\": 0.0821256038647343}, {\"Experience\": \"5-10\", \"order\": 1.0, \"Yearly Pay (USD)\": \"$40,000-$79,000\", \"Gender\": \"Man\", \"respondents\": 59, \"Percentage of respondents\": 0.2489451476793249}, {\"Experience\": \"5-10\", \"order\": 1.0, \"Yearly Pay (USD)\": \"$40,000-$79,000\", \"Gender\": \"Woman, NB/Trans\", \"respondents\": 68, \"Percentage of respondents\": 0.3285024154589372}, {\"Experience\": \"5-10\", \"order\": 2.0, \"Yearly Pay (USD)\": \"$80,000-$119,000\", \"Gender\": \"Man\", \"respondents\": 45, \"Percentage of respondents\": 0.189873417721519}, {\"Experience\": \"5-10\", \"order\": 2.0, \"Yearly Pay (USD)\": \"$80,000-$119,000\", \"Gender\": \"Woman, NB/Trans\", \"respondents\": 49, \"Percentage of respondents\": 0.23671497584541062}, {\"Experience\": \"5-10\", \"order\": 3.0, \"Yearly Pay (USD)\": \"$120,000-$179,000\", \"Gender\": \"Man\", \"respondents\": 20, \"Percentage of respondents\": 0.08438818565400844}, {\"Experience\": \"5-10\", \"order\": 3.0, \"Yearly Pay (USD)\": \"$120,000-$179,000\", \"Gender\": \"Woman, NB/Trans\", \"respondents\": 12, \"Percentage of respondents\": 0.057971014492753624}, {\"Experience\": \"5-10\", \"order\": 4.0, \"Yearly Pay (USD)\": \"More than $180,000\", \"Gender\": \"Man\", \"respondents\": 1, \"Percentage of respondents\": 0.004219409282700422}, {\"Experience\": \"5-10\", \"order\": 4.0, \"Yearly Pay (USD)\": \"More than $180,000\", \"Gender\": \"Woman, NB/Trans\", \"respondents\": 2, \"Percentage of respondents\": 0.00966183574879227}]}}, {\"mode\": \"vega-lite\"});\n",
       "</script>"
      ],
      "text/plain": [
       "alt.Chart(...)"
      ]
     },
     "execution_count": 174,
     "metadata": {},
     "output_type": "execute_result"
    }
   ],
   "source": [
    "gender"
   ]
  },
  {
   "cell_type": "markdown",
   "metadata": {},
   "source": [
    "### Being from a historically disadvantaged or underrepresented racial or ethnic group"
   ]
  },
  {
   "cell_type": "markdown",
   "metadata": {},
   "source": [
    "Salary gains are similar across respondents who are and are not members of a historically disadvantaged or underrepresented racial or ethnic group. However, salary gains are somewhat less consistent for those who answered 'Yes'. This can be due, in part, to the survey having notably fewer respondents who answered 'Yes'."
   ]
  },
  {
   "cell_type": "code",
   "execution_count": 175,
   "metadata": {},
   "outputs": [
    {
     "data": {
      "text/html": [
       "\n",
       "<div id=\"altair-viz-ac84f4e7613e44aebe8d171c389b6764\"></div>\n",
       "<script type=\"text/javascript\">\n",
       "  (function(spec, embedOpt){\n",
       "    let outputDiv = document.currentScript.previousElementSibling;\n",
       "    if (outputDiv.id !== \"altair-viz-ac84f4e7613e44aebe8d171c389b6764\") {\n",
       "      outputDiv = document.getElementById(\"altair-viz-ac84f4e7613e44aebe8d171c389b6764\");\n",
       "    }\n",
       "    const paths = {\n",
       "      \"vega\": \"https://cdn.jsdelivr.net/npm//vega@5?noext\",\n",
       "      \"vega-lib\": \"https://cdn.jsdelivr.net/npm//vega-lib?noext\",\n",
       "      \"vega-lite\": \"https://cdn.jsdelivr.net/npm//vega-lite@4.8.1?noext\",\n",
       "      \"vega-embed\": \"https://cdn.jsdelivr.net/npm//vega-embed@6?noext\",\n",
       "    };\n",
       "\n",
       "    function loadScript(lib) {\n",
       "      return new Promise(function(resolve, reject) {\n",
       "        var s = document.createElement('script');\n",
       "        s.src = paths[lib];\n",
       "        s.async = true;\n",
       "        s.onload = () => resolve(paths[lib]);\n",
       "        s.onerror = () => reject(`Error loading script: ${paths[lib]}`);\n",
       "        document.getElementsByTagName(\"head\")[0].appendChild(s);\n",
       "      });\n",
       "    }\n",
       "\n",
       "    function showError(err) {\n",
       "      outputDiv.innerHTML = `<div class=\"error\" style=\"color:red;\">${err}</div>`;\n",
       "      throw err;\n",
       "    }\n",
       "\n",
       "    function displayChart(vegaEmbed) {\n",
       "      vegaEmbed(outputDiv, spec, embedOpt)\n",
       "        .catch(err => showError(`Javascript Error: ${err.message}<br>This usually means there's a typo in your chart specification. See the javascript console for the full traceback.`));\n",
       "    }\n",
       "\n",
       "    if(typeof define === \"function\" && define.amd) {\n",
       "      requirejs.config({paths});\n",
       "      require([\"vega-embed\"], displayChart, err => showError(`Error loading script: ${err.message}`));\n",
       "    } else if (typeof vegaEmbed === \"function\") {\n",
       "      displayChart(vegaEmbed);\n",
       "    } else {\n",
       "      loadScript(\"vega\")\n",
       "        .then(() => loadScript(\"vega-lite\"))\n",
       "        .then(() => loadScript(\"vega-embed\"))\n",
       "        .catch(showError)\n",
       "        .then(() => displayChart(vegaEmbed));\n",
       "    }\n",
       "  })({\"config\": {\"view\": {\"height\": 300, \"width\": 250}, \"mark\": {\"color\": \"black\", \"fill\": \"black\"}, \"font\": \"Jost\"}, \"data\": {\"name\": \"data-983dac62a87d57cad62f8dd3cdd43976\"}, \"mark\": {\"type\": \"bar\", \"size\": 35}, \"encoding\": {\"color\": {\"type\": \"nominal\", \"field\": \"Yearly Pay (USD)\", \"scale\": {\"domain\": [\"Less than $40,000\", \"$40,000-$79,000\", \"$80,000-$119,000\", \"$120,000-$179,000\", \"More than $180,000\"], \"range\": [\"#afff6a\", \"#8dd951\", \"#6cb337\", \"#4c8f1e\", \"#2d6d00\"]}, \"sort\": [\"Less than $40,000\", \"$40,000-$79,000\", \"$80,000-$119,000\", \"$120,000-$179,000\", \"More than $180,000\"]}, \"facet\": {\"type\": \"nominal\", \"field\": \"Do you consider yourself a member of a historically disadvantaged or underrepresented racial or ethnic group?\"}, \"order\": {\"type\": \"quantitative\", \"field\": \"order\"}, \"tooltip\": [{\"type\": \"nominal\", \"field\": \"Do you consider yourself a member of a historically disadvantaged or underrepresented racial or ethnic group?\"}, {\"type\": \"nominal\", \"field\": \"Experience\"}, {\"type\": \"nominal\", \"field\": \"Yearly Pay (USD)\"}, {\"type\": \"quantitative\", \"aggregate\": \"sum\", \"field\": \"respondents\"}, {\"type\": \"quantitative\", \"field\": \"Percentage of respondents\", \"format\": \".1%\"}], \"x\": {\"type\": \"nominal\", \"field\": \"Experience\", \"sort\": [\"5 or less\", \"5-10\", \"11-15\", \"16-20\", \"21-30\"]}, \"y\": {\"type\": \"quantitative\", \"aggregate\": \"sum\", \"axis\": {\"format\": \"%\"}, \"field\": \"respondents\", \"stack\": \"normalize\", \"title\": \"Percentage of respondents\"}}, \"$schema\": \"https://vega.github.io/schema/vega-lite/v4.8.1.json\", \"datasets\": {\"data-983dac62a87d57cad62f8dd3cdd43976\": [{\"Experience\": \"11-15\", \"order\": 0.0, \"Yearly Pay (USD)\": \"Less than $40,000\", \"Do you consider yourself a member of a historically disadvantaged or underrepresented racial or ethnic group?\": \"No\", \"respondents\": 27, \"Percentage of respondents\": 0.1125}, {\"Experience\": \"11-15\", \"order\": 0.0, \"Yearly Pay (USD)\": \"Less than $40,000\", \"Do you consider yourself a member of a historically disadvantaged or underrepresented racial or ethnic group?\": \"Yes\", \"respondents\": 3, \"Percentage of respondents\": 0.09090909090909091}, {\"Experience\": \"11-15\", \"order\": 1.0, \"Yearly Pay (USD)\": \"$40,000-$79,000\", \"Do you consider yourself a member of a historically disadvantaged or underrepresented racial or ethnic group?\": \"No\", \"respondents\": 41, \"Percentage of respondents\": 0.17083333333333334}, {\"Experience\": \"11-15\", \"order\": 1.0, \"Yearly Pay (USD)\": \"$40,000-$79,000\", \"Do you consider yourself a member of a historically disadvantaged or underrepresented racial or ethnic group?\": \"Yes\", \"respondents\": 5, \"Percentage of respondents\": 0.15151515151515152}, {\"Experience\": \"11-15\", \"order\": 2.0, \"Yearly Pay (USD)\": \"$80,000-$119,000\", \"Do you consider yourself a member of a historically disadvantaged or underrepresented racial or ethnic group?\": \"No\", \"respondents\": 54, \"Percentage of respondents\": 0.225}, {\"Experience\": \"11-15\", \"order\": 2.0, \"Yearly Pay (USD)\": \"$80,000-$119,000\", \"Do you consider yourself a member of a historically disadvantaged or underrepresented racial or ethnic group?\": \"Yes\", \"respondents\": 7, \"Percentage of respondents\": 0.21212121212121213}, {\"Experience\": \"11-15\", \"order\": 3.0, \"Yearly Pay (USD)\": \"$120,000-$179,000\", \"Do you consider yourself a member of a historically disadvantaged or underrepresented racial or ethnic group?\": \"No\", \"respondents\": 24, \"Percentage of respondents\": 0.1}, {\"Experience\": \"11-15\", \"order\": 3.0, \"Yearly Pay (USD)\": \"$120,000-$179,000\", \"Do you consider yourself a member of a historically disadvantaged or underrepresented racial or ethnic group?\": \"Yes\", \"respondents\": 3, \"Percentage of respondents\": 0.09090909090909091}, {\"Experience\": \"11-15\", \"order\": 4.0, \"Yearly Pay (USD)\": \"More than $180,000\", \"Do you consider yourself a member of a historically disadvantaged or underrepresented racial or ethnic group?\": \"No\", \"respondents\": 8, \"Percentage of respondents\": 0.03333333333333333}, {\"Experience\": \"16-20\", \"order\": 0.0, \"Yearly Pay (USD)\": \"Less than $40,000\", \"Do you consider yourself a member of a historically disadvantaged or underrepresented racial or ethnic group?\": \"No\", \"respondents\": 13, \"Percentage of respondents\": 0.07878787878787878}, {\"Experience\": \"16-20\", \"order\": 0.0, \"Yearly Pay (USD)\": \"Less than $40,000\", \"Do you consider yourself a member of a historically disadvantaged or underrepresented racial or ethnic group?\": \"Yes\", \"respondents\": 6, \"Percentage of respondents\": 0.24}, {\"Experience\": \"16-20\", \"order\": 1.0, \"Yearly Pay (USD)\": \"$40,000-$79,000\", \"Do you consider yourself a member of a historically disadvantaged or underrepresented racial or ethnic group?\": \"No\", \"respondents\": 31, \"Percentage of respondents\": 0.18787878787878787}, {\"Experience\": \"16-20\", \"order\": 1.0, \"Yearly Pay (USD)\": \"$40,000-$79,000\", \"Do you consider yourself a member of a historically disadvantaged or underrepresented racial or ethnic group?\": \"Yes\", \"respondents\": 4, \"Percentage of respondents\": 0.16}, {\"Experience\": \"16-20\", \"order\": 2.0, \"Yearly Pay (USD)\": \"$80,000-$119,000\", \"Do you consider yourself a member of a historically disadvantaged or underrepresented racial or ethnic group?\": \"No\", \"respondents\": 42, \"Percentage of respondents\": 0.2545454545454545}, {\"Experience\": \"16-20\", \"order\": 2.0, \"Yearly Pay (USD)\": \"$80,000-$119,000\", \"Do you consider yourself a member of a historically disadvantaged or underrepresented racial or ethnic group?\": \"Yes\", \"respondents\": 4, \"Percentage of respondents\": 0.16}, {\"Experience\": \"16-20\", \"order\": 3.0, \"Yearly Pay (USD)\": \"$120,000-$179,000\", \"Do you consider yourself a member of a historically disadvantaged or underrepresented racial or ethnic group?\": \"No\", \"respondents\": 26, \"Percentage of respondents\": 0.15757575757575756}, {\"Experience\": \"16-20\", \"order\": 3.0, \"Yearly Pay (USD)\": \"$120,000-$179,000\", \"Do you consider yourself a member of a historically disadvantaged or underrepresented racial or ethnic group?\": \"Yes\", \"respondents\": 4, \"Percentage of respondents\": 0.16}, {\"Experience\": \"16-20\", \"order\": 4.0, \"Yearly Pay (USD)\": \"More than $180,000\", \"Do you consider yourself a member of a historically disadvantaged or underrepresented racial or ethnic group?\": \"No\", \"respondents\": 8, \"Percentage of respondents\": 0.048484848484848485}, {\"Experience\": \"16-20\", \"order\": 4.0, \"Yearly Pay (USD)\": \"More than $180,000\", \"Do you consider yourself a member of a historically disadvantaged or underrepresented racial or ethnic group?\": \"Yes\", \"respondents\": 2, \"Percentage of respondents\": 0.08}, {\"Experience\": \"21-30\", \"order\": 0.0, \"Yearly Pay (USD)\": \"Less than $40,000\", \"Do you consider yourself a member of a historically disadvantaged or underrepresented racial or ethnic group?\": \"No\", \"respondents\": 9, \"Percentage of respondents\": 0.06569343065693431}, {\"Experience\": \"21-30\", \"order\": 1.0, \"Yearly Pay (USD)\": \"$40,000-$79,000\", \"Do you consider yourself a member of a historically disadvantaged or underrepresented racial or ethnic group?\": \"No\", \"respondents\": 21, \"Percentage of respondents\": 0.15328467153284672}, {\"Experience\": \"21-30\", \"order\": 1.0, \"Yearly Pay (USD)\": \"$40,000-$79,000\", \"Do you consider yourself a member of a historically disadvantaged or underrepresented racial or ethnic group?\": \"Yes\", \"respondents\": 1, \"Percentage of respondents\": 0.07692307692307693}, {\"Experience\": \"21-30\", \"order\": 2.0, \"Yearly Pay (USD)\": \"$80,000-$119,000\", \"Do you consider yourself a member of a historically disadvantaged or underrepresented racial or ethnic group?\": \"No\", \"respondents\": 31, \"Percentage of respondents\": 0.22627737226277372}, {\"Experience\": \"21-30\", \"order\": 2.0, \"Yearly Pay (USD)\": \"$80,000-$119,000\", \"Do you consider yourself a member of a historically disadvantaged or underrepresented racial or ethnic group?\": \"Yes\", \"respondents\": 3, \"Percentage of respondents\": 0.23076923076923078}, {\"Experience\": \"21-30\", \"order\": 3.0, \"Yearly Pay (USD)\": \"$120,000-$179,000\", \"Do you consider yourself a member of a historically disadvantaged or underrepresented racial or ethnic group?\": \"No\", \"respondents\": 21, \"Percentage of respondents\": 0.15328467153284672}, {\"Experience\": \"21-30\", \"order\": 3.0, \"Yearly Pay (USD)\": \"$120,000-$179,000\", \"Do you consider yourself a member of a historically disadvantaged or underrepresented racial or ethnic group?\": \"Yes\", \"respondents\": 3, \"Percentage of respondents\": 0.23076923076923078}, {\"Experience\": \"21-30\", \"order\": 4.0, \"Yearly Pay (USD)\": \"More than $180,000\", \"Do you consider yourself a member of a historically disadvantaged or underrepresented racial or ethnic group?\": \"No\", \"respondents\": 9, \"Percentage of respondents\": 0.06569343065693431}, {\"Experience\": \"21-30\", \"order\": 4.0, \"Yearly Pay (USD)\": \"More than $180,000\", \"Do you consider yourself a member of a historically disadvantaged or underrepresented racial or ethnic group?\": \"Yes\", \"respondents\": 2, \"Percentage of respondents\": 0.15384615384615385}, {\"Experience\": \"5 or less\", \"order\": 0.0, \"Yearly Pay (USD)\": \"Less than $40,000\", \"Do you consider yourself a member of a historically disadvantaged or underrepresented racial or ethnic group?\": \"No\", \"respondents\": 83, \"Percentage of respondents\": 0.21012658227848102}, {\"Experience\": \"5 or less\", \"order\": 0.0, \"Yearly Pay (USD)\": \"Less than $40,000\", \"Do you consider yourself a member of a historically disadvantaged or underrepresented racial or ethnic group?\": \"Yes\", \"respondents\": 16, \"Percentage of respondents\": 0.16161616161616163}, {\"Experience\": \"5 or less\", \"order\": 1.0, \"Yearly Pay (USD)\": \"$40,000-$79,000\", \"Do you consider yourself a member of a historically disadvantaged or underrepresented racial or ethnic group?\": \"No\", \"respondents\": 108, \"Percentage of respondents\": 0.27341772151898736}, {\"Experience\": \"5 or less\", \"order\": 1.0, \"Yearly Pay (USD)\": \"$40,000-$79,000\", \"Do you consider yourself a member of a historically disadvantaged or underrepresented racial or ethnic group?\": \"Yes\", \"respondents\": 17, \"Percentage of respondents\": 0.1717171717171717}, {\"Experience\": \"5 or less\", \"order\": 2.0, \"Yearly Pay (USD)\": \"$80,000-$119,000\", \"Do you consider yourself a member of a historically disadvantaged or underrepresented racial or ethnic group?\": \"No\", \"respondents\": 31, \"Percentage of respondents\": 0.07848101265822785}, {\"Experience\": \"5 or less\", \"order\": 2.0, \"Yearly Pay (USD)\": \"$80,000-$119,000\", \"Do you consider yourself a member of a historically disadvantaged or underrepresented racial or ethnic group?\": \"Yes\", \"respondents\": 13, \"Percentage of respondents\": 0.13131313131313133}, {\"Experience\": \"5 or less\", \"order\": 3.0, \"Yearly Pay (USD)\": \"$120,000-$179,000\", \"Do you consider yourself a member of a historically disadvantaged or underrepresented racial or ethnic group?\": \"No\", \"respondents\": 9, \"Percentage of respondents\": 0.02278481012658228}, {\"Experience\": \"5 or less\", \"order\": 3.0, \"Yearly Pay (USD)\": \"$120,000-$179,000\", \"Do you consider yourself a member of a historically disadvantaged or underrepresented racial or ethnic group?\": \"Yes\", \"respondents\": 1, \"Percentage of respondents\": 0.010101010101010102}, {\"Experience\": \"5 or less\", \"order\": 4.0, \"Yearly Pay (USD)\": \"More than $180,000\", \"Do you consider yourself a member of a historically disadvantaged or underrepresented racial or ethnic group?\": \"No\", \"respondents\": 1, \"Percentage of respondents\": 0.002531645569620253}, {\"Experience\": \"5 or less\", \"order\": 4.0, \"Yearly Pay (USD)\": \"More than $180,000\", \"Do you consider yourself a member of a historically disadvantaged or underrepresented racial or ethnic group?\": \"Yes\", \"respondents\": 2, \"Percentage of respondents\": 0.020202020202020204}, {\"Experience\": \"5-10\", \"order\": 0.0, \"Yearly Pay (USD)\": \"Less than $40,000\", \"Do you consider yourself a member of a historically disadvantaged or underrepresented racial or ethnic group?\": \"No\", \"respondents\": 39, \"Percentage of respondents\": 0.104}, {\"Experience\": \"5-10\", \"order\": 0.0, \"Yearly Pay (USD)\": \"Less than $40,000\", \"Do you consider yourself a member of a historically disadvantaged or underrepresented racial or ethnic group?\": \"Yes\", \"respondents\": 8, \"Percentage of respondents\": 0.11940298507462686}, {\"Experience\": \"5-10\", \"order\": 1.0, \"Yearly Pay (USD)\": \"$40,000-$79,000\", \"Do you consider yourself a member of a historically disadvantaged or underrepresented racial or ethnic group?\": \"No\", \"respondents\": 109, \"Percentage of respondents\": 0.2906666666666667}, {\"Experience\": \"5-10\", \"order\": 1.0, \"Yearly Pay (USD)\": \"$40,000-$79,000\", \"Do you consider yourself a member of a historically disadvantaged or underrepresented racial or ethnic group?\": \"Yes\", \"respondents\": 15, \"Percentage of respondents\": 0.22388059701492538}, {\"Experience\": \"5-10\", \"order\": 2.0, \"Yearly Pay (USD)\": \"$80,000-$119,000\", \"Do you consider yourself a member of a historically disadvantaged or underrepresented racial or ethnic group?\": \"No\", \"respondents\": 77, \"Percentage of respondents\": 0.20533333333333334}, {\"Experience\": \"5-10\", \"order\": 2.0, \"Yearly Pay (USD)\": \"$80,000-$119,000\", \"Do you consider yourself a member of a historically disadvantaged or underrepresented racial or ethnic group?\": \"Yes\", \"respondents\": 17, \"Percentage of respondents\": 0.2537313432835821}, {\"Experience\": \"5-10\", \"order\": 3.0, \"Yearly Pay (USD)\": \"$120,000-$179,000\", \"Do you consider yourself a member of a historically disadvantaged or underrepresented racial or ethnic group?\": \"No\", \"respondents\": 29, \"Percentage of respondents\": 0.07733333333333334}, {\"Experience\": \"5-10\", \"order\": 3.0, \"Yearly Pay (USD)\": \"$120,000-$179,000\", \"Do you consider yourself a member of a historically disadvantaged or underrepresented racial or ethnic group?\": \"Yes\", \"respondents\": 3, \"Percentage of respondents\": 0.04477611940298507}, {\"Experience\": \"5-10\", \"order\": 4.0, \"Yearly Pay (USD)\": \"More than $180,000\", \"Do you consider yourself a member of a historically disadvantaged or underrepresented racial or ethnic group?\": \"No\", \"respondents\": 2, \"Percentage of respondents\": 0.005333333333333333}, {\"Experience\": \"5-10\", \"order\": 4.0, \"Yearly Pay (USD)\": \"More than $180,000\", \"Do you consider yourself a member of a historically disadvantaged or underrepresented racial or ethnic group?\": \"Yes\", \"respondents\": 1, \"Percentage of respondents\": 0.014925373134328358}]}}, {\"mode\": \"vega-lite\"});\n",
       "</script>"
      ],
      "text/plain": [
       "alt.Chart(...)"
      ]
     },
     "execution_count": 175,
     "metadata": {},
     "output_type": "execute_result"
    }
   ],
   "source": [
    "underrep"
   ]
  },
  {
   "cell_type": "markdown",
   "metadata": {},
   "source": [
    "### By level of education"
   ]
  },
  {
   "cell_type": "markdown",
   "metadata": {},
   "source": [
    "Respondents with more advanced degrees do not necessarily earn more money with experience. (Note: Many education categories were dropped due to sample size.)"
   ]
  },
  {
   "cell_type": "code",
   "execution_count": 176,
   "metadata": {},
   "outputs": [
    {
     "data": {
      "text/html": [
       "\n",
       "<div id=\"altair-viz-ae8d22f5477b430f808f527b6b18c027\"></div>\n",
       "<script type=\"text/javascript\">\n",
       "  (function(spec, embedOpt){\n",
       "    let outputDiv = document.currentScript.previousElementSibling;\n",
       "    if (outputDiv.id !== \"altair-viz-ae8d22f5477b430f808f527b6b18c027\") {\n",
       "      outputDiv = document.getElementById(\"altair-viz-ae8d22f5477b430f808f527b6b18c027\");\n",
       "    }\n",
       "    const paths = {\n",
       "      \"vega\": \"https://cdn.jsdelivr.net/npm//vega@5?noext\",\n",
       "      \"vega-lib\": \"https://cdn.jsdelivr.net/npm//vega-lib?noext\",\n",
       "      \"vega-lite\": \"https://cdn.jsdelivr.net/npm//vega-lite@4.8.1?noext\",\n",
       "      \"vega-embed\": \"https://cdn.jsdelivr.net/npm//vega-embed@6?noext\",\n",
       "    };\n",
       "\n",
       "    function loadScript(lib) {\n",
       "      return new Promise(function(resolve, reject) {\n",
       "        var s = document.createElement('script');\n",
       "        s.src = paths[lib];\n",
       "        s.async = true;\n",
       "        s.onload = () => resolve(paths[lib]);\n",
       "        s.onerror = () => reject(`Error loading script: ${paths[lib]}`);\n",
       "        document.getElementsByTagName(\"head\")[0].appendChild(s);\n",
       "      });\n",
       "    }\n",
       "\n",
       "    function showError(err) {\n",
       "      outputDiv.innerHTML = `<div class=\"error\" style=\"color:red;\">${err}</div>`;\n",
       "      throw err;\n",
       "    }\n",
       "\n",
       "    function displayChart(vegaEmbed) {\n",
       "      vegaEmbed(outputDiv, spec, embedOpt)\n",
       "        .catch(err => showError(`Javascript Error: ${err.message}<br>This usually means there's a typo in your chart specification. See the javascript console for the full traceback.`));\n",
       "    }\n",
       "\n",
       "    if(typeof define === \"function\" && define.amd) {\n",
       "      requirejs.config({paths});\n",
       "      require([\"vega-embed\"], displayChart, err => showError(`Error loading script: ${err.message}`));\n",
       "    } else if (typeof vegaEmbed === \"function\") {\n",
       "      displayChart(vegaEmbed);\n",
       "    } else {\n",
       "      loadScript(\"vega\")\n",
       "        .then(() => loadScript(\"vega-lite\"))\n",
       "        .then(() => loadScript(\"vega-embed\"))\n",
       "        .catch(showError)\n",
       "        .then(() => displayChart(vegaEmbed));\n",
       "    }\n",
       "  })({\"config\": {\"view\": {\"height\": 300, \"width\": 250}, \"mark\": {\"color\": \"black\", \"fill\": \"black\"}, \"font\": \"Jost\"}, \"data\": {\"name\": \"data-56e78fd2fff7d0b9cbbc79b68b5dfe9b\"}, \"mark\": {\"type\": \"bar\", \"size\": 35}, \"encoding\": {\"color\": {\"type\": \"nominal\", \"field\": \"Yearly Pay (USD)\", \"scale\": {\"domain\": [\"Less than $40,000\", \"$40,000-$79,000\", \"$80,000-$119,000\", \"$120,000-$179,000\", \"More than $180,000\"], \"range\": [\"#afff6a\", \"#8dd951\", \"#6cb337\", \"#4c8f1e\", \"#2d6d00\"]}, \"sort\": [\"Less than $40,000\", \"$40,000-$79,000\", \"$80,000-$119,000\", \"$120,000-$179,000\", \"More than $180,000\"]}, \"facet\": {\"type\": \"nominal\", \"field\": \"What is the highest level of education you have completed?\"}, \"order\": {\"type\": \"quantitative\", \"field\": \"order\"}, \"tooltip\": [{\"type\": \"nominal\", \"field\": \"What is the highest level of education you have completed?\"}, {\"type\": \"nominal\", \"field\": \"Experience\"}, {\"type\": \"nominal\", \"field\": \"Yearly Pay (USD)\"}, {\"type\": \"quantitative\", \"aggregate\": \"sum\", \"field\": \"respondents\"}, {\"type\": \"quantitative\", \"field\": \"Percentage of respondents\", \"format\": \".1%\"}], \"x\": {\"type\": \"nominal\", \"field\": \"Experience\", \"sort\": [\"5 or less\", \"5-10\", \"11-15\", \"16-20\", \"21-30\"]}, \"y\": {\"type\": \"quantitative\", \"aggregate\": \"sum\", \"axis\": {\"format\": \"%\"}, \"field\": \"respondents\", \"stack\": \"normalize\", \"title\": \"Percentage of respondents\"}}, \"$schema\": \"https://vega.github.io/schema/vega-lite/v4.8.1.json\", \"datasets\": {\"data-56e78fd2fff7d0b9cbbc79b68b5dfe9b\": [{\"Experience\": \"11-15\", \"order\": 0.0, \"Yearly Pay (USD)\": \"Less than $40,000\", \"What is the highest level of education you have completed?\": \"Bachelors Degree\", \"respondents\": 5, \"Percentage of respondents\": 0.06666666666666667}, {\"Experience\": \"11-15\", \"order\": 0.0, \"Yearly Pay (USD)\": \"Less than $40,000\", \"What is the highest level of education you have completed?\": \"Masters Degree (or similar graduate degree)\", \"respondents\": 19, \"Percentage of respondents\": 0.1310344827586207}, {\"Experience\": \"11-15\", \"order\": 0.0, \"Yearly Pay (USD)\": \"Less than $40,000\", \"What is the highest level of education you have completed?\": \"Ph.D.\", \"respondents\": 5, \"Percentage of respondents\": 0.11627906976744186}, {\"Experience\": \"11-15\", \"order\": 1.0, \"Yearly Pay (USD)\": \"$40,000-$79,000\", \"What is the highest level of education you have completed?\": \"Bachelors Degree\", \"respondents\": 16, \"Percentage of respondents\": 0.21333333333333335}, {\"Experience\": \"11-15\", \"order\": 1.0, \"Yearly Pay (USD)\": \"$40,000-$79,000\", \"What is the highest level of education you have completed?\": \"Masters Degree (or similar graduate degree)\", \"respondents\": 23, \"Percentage of respondents\": 0.15862068965517243}, {\"Experience\": \"11-15\", \"order\": 1.0, \"Yearly Pay (USD)\": \"$40,000-$79,000\", \"What is the highest level of education you have completed?\": \"Ph.D.\", \"respondents\": 4, \"Percentage of respondents\": 0.09302325581395349}, {\"Experience\": \"11-15\", \"order\": 2.0, \"Yearly Pay (USD)\": \"$80,000-$119,000\", \"What is the highest level of education you have completed?\": \"Bachelors Degree\", \"respondents\": 15, \"Percentage of respondents\": 0.2}, {\"Experience\": \"11-15\", \"order\": 2.0, \"Yearly Pay (USD)\": \"$80,000-$119,000\", \"What is the highest level of education you have completed?\": \"Masters Degree (or similar graduate degree)\", \"respondents\": 32, \"Percentage of respondents\": 0.2206896551724138}, {\"Experience\": \"11-15\", \"order\": 2.0, \"Yearly Pay (USD)\": \"$80,000-$119,000\", \"What is the highest level of education you have completed?\": \"Ph.D.\", \"respondents\": 10, \"Percentage of respondents\": 0.23255813953488372}, {\"Experience\": \"11-15\", \"order\": 3.0, \"Yearly Pay (USD)\": \"$120,000-$179,000\", \"What is the highest level of education you have completed?\": \"Bachelors Degree\", \"respondents\": 10, \"Percentage of respondents\": 0.13333333333333333}, {\"Experience\": \"11-15\", \"order\": 3.0, \"Yearly Pay (USD)\": \"$120,000-$179,000\", \"What is the highest level of education you have completed?\": \"Masters Degree (or similar graduate degree)\", \"respondents\": 10, \"Percentage of respondents\": 0.06896551724137931}, {\"Experience\": \"11-15\", \"order\": 3.0, \"Yearly Pay (USD)\": \"$120,000-$179,000\", \"What is the highest level of education you have completed?\": \"Ph.D.\", \"respondents\": 6, \"Percentage of respondents\": 0.13953488372093023}, {\"Experience\": \"11-15\", \"order\": 4.0, \"Yearly Pay (USD)\": \"More than $180,000\", \"What is the highest level of education you have completed?\": \"Bachelors Degree\", \"respondents\": 2, \"Percentage of respondents\": 0.02666666666666667}, {\"Experience\": \"11-15\", \"order\": 4.0, \"Yearly Pay (USD)\": \"More than $180,000\", \"What is the highest level of education you have completed?\": \"Masters Degree (or similar graduate degree)\", \"respondents\": 2, \"Percentage of respondents\": 0.013793103448275862}, {\"Experience\": \"11-15\", \"order\": 4.0, \"Yearly Pay (USD)\": \"More than $180,000\", \"What is the highest level of education you have completed?\": \"Ph.D.\", \"respondents\": 3, \"Percentage of respondents\": 0.06976744186046512}, {\"Experience\": \"16-20\", \"order\": 0.0, \"Yearly Pay (USD)\": \"Less than $40,000\", \"What is the highest level of education you have completed?\": \"Bachelors Degree\", \"respondents\": 3, \"Percentage of respondents\": 0.045454545454545456}, {\"Experience\": \"16-20\", \"order\": 0.0, \"Yearly Pay (USD)\": \"Less than $40,000\", \"What is the highest level of education you have completed?\": \"Masters Degree (or similar graduate degree)\", \"respondents\": 8, \"Percentage of respondents\": 0.10526315789473684}, {\"Experience\": \"16-20\", \"order\": 0.0, \"Yearly Pay (USD)\": \"Less than $40,000\", \"What is the highest level of education you have completed?\": \"Ph.D.\", \"respondents\": 5, \"Percentage of respondents\": 0.11904761904761904}, {\"Experience\": \"16-20\", \"order\": 1.0, \"Yearly Pay (USD)\": \"$40,000-$79,000\", \"What is the highest level of education you have completed?\": \"Bachelors Degree\", \"respondents\": 14, \"Percentage of respondents\": 0.21212121212121213}, {\"Experience\": \"16-20\", \"order\": 1.0, \"Yearly Pay (USD)\": \"$40,000-$79,000\", \"What is the highest level of education you have completed?\": \"Masters Degree (or similar graduate degree)\", \"respondents\": 15, \"Percentage of respondents\": 0.19736842105263158}, {\"Experience\": \"16-20\", \"order\": 1.0, \"Yearly Pay (USD)\": \"$40,000-$79,000\", \"What is the highest level of education you have completed?\": \"Ph.D.\", \"respondents\": 6, \"Percentage of respondents\": 0.14285714285714285}, {\"Experience\": \"16-20\", \"order\": 2.0, \"Yearly Pay (USD)\": \"$80,000-$119,000\", \"What is the highest level of education you have completed?\": \"Bachelors Degree\", \"respondents\": 17, \"Percentage of respondents\": 0.25757575757575757}, {\"Experience\": \"16-20\", \"order\": 2.0, \"Yearly Pay (USD)\": \"$80,000-$119,000\", \"What is the highest level of education you have completed?\": \"Masters Degree (or similar graduate degree)\", \"respondents\": 20, \"Percentage of respondents\": 0.2631578947368421}, {\"Experience\": \"16-20\", \"order\": 2.0, \"Yearly Pay (USD)\": \"$80,000-$119,000\", \"What is the highest level of education you have completed?\": \"Ph.D.\", \"respondents\": 6, \"Percentage of respondents\": 0.14285714285714285}, {\"Experience\": \"16-20\", \"order\": 3.0, \"Yearly Pay (USD)\": \"$120,000-$179,000\", \"What is the highest level of education you have completed?\": \"Bachelors Degree\", \"respondents\": 8, \"Percentage of respondents\": 0.12121212121212122}, {\"Experience\": \"16-20\", \"order\": 3.0, \"Yearly Pay (USD)\": \"$120,000-$179,000\", \"What is the highest level of education you have completed?\": \"Masters Degree (or similar graduate degree)\", \"respondents\": 13, \"Percentage of respondents\": 0.17105263157894737}, {\"Experience\": \"16-20\", \"order\": 3.0, \"Yearly Pay (USD)\": \"$120,000-$179,000\", \"What is the highest level of education you have completed?\": \"Ph.D.\", \"respondents\": 9, \"Percentage of respondents\": 0.21428571428571427}, {\"Experience\": \"16-20\", \"order\": 4.0, \"Yearly Pay (USD)\": \"More than $180,000\", \"What is the highest level of education you have completed?\": \"Bachelors Degree\", \"respondents\": 5, \"Percentage of respondents\": 0.07575757575757576}, {\"Experience\": \"16-20\", \"order\": 4.0, \"Yearly Pay (USD)\": \"More than $180,000\", \"What is the highest level of education you have completed?\": \"Masters Degree (or similar graduate degree)\", \"respondents\": 2, \"Percentage of respondents\": 0.02631578947368421}, {\"Experience\": \"16-20\", \"order\": 4.0, \"Yearly Pay (USD)\": \"More than $180,000\", \"What is the highest level of education you have completed?\": \"Ph.D.\", \"respondents\": 3, \"Percentage of respondents\": 0.07142857142857142}, {\"Experience\": \"21-30\", \"order\": 0.0, \"Yearly Pay (USD)\": \"Less than $40,000\", \"What is the highest level of education you have completed?\": \"Bachelors Degree\", \"respondents\": 2, \"Percentage of respondents\": 0.044444444444444446}, {\"Experience\": \"21-30\", \"order\": 0.0, \"Yearly Pay (USD)\": \"Less than $40,000\", \"What is the highest level of education you have completed?\": \"Masters Degree (or similar graduate degree)\", \"respondents\": 3, \"Percentage of respondents\": 0.04285714285714286}, {\"Experience\": \"21-30\", \"order\": 0.0, \"Yearly Pay (USD)\": \"Less than $40,000\", \"What is the highest level of education you have completed?\": \"Ph.D.\", \"respondents\": 3, \"Percentage of respondents\": 0.12}, {\"Experience\": \"21-30\", \"order\": 1.0, \"Yearly Pay (USD)\": \"$40,000-$79,000\", \"What is the highest level of education you have completed?\": \"Bachelors Degree\", \"respondents\": 6, \"Percentage of respondents\": 0.13333333333333333}, {\"Experience\": \"21-30\", \"order\": 1.0, \"Yearly Pay (USD)\": \"$40,000-$79,000\", \"What is the highest level of education you have completed?\": \"Masters Degree (or similar graduate degree)\", \"respondents\": 11, \"Percentage of respondents\": 0.15714285714285714}, {\"Experience\": \"21-30\", \"order\": 1.0, \"Yearly Pay (USD)\": \"$40,000-$79,000\", \"What is the highest level of education you have completed?\": \"Ph.D.\", \"respondents\": 3, \"Percentage of respondents\": 0.12}, {\"Experience\": \"21-30\", \"order\": 2.0, \"Yearly Pay (USD)\": \"$80,000-$119,000\", \"What is the highest level of education you have completed?\": \"Bachelors Degree\", \"respondents\": 9, \"Percentage of respondents\": 0.2}, {\"Experience\": \"21-30\", \"order\": 2.0, \"Yearly Pay (USD)\": \"$80,000-$119,000\", \"What is the highest level of education you have completed?\": \"Masters Degree (or similar graduate degree)\", \"respondents\": 18, \"Percentage of respondents\": 0.2571428571428571}, {\"Experience\": \"21-30\", \"order\": 2.0, \"Yearly Pay (USD)\": \"$80,000-$119,000\", \"What is the highest level of education you have completed?\": \"Ph.D.\", \"respondents\": 4, \"Percentage of respondents\": 0.16}, {\"Experience\": \"21-30\", \"order\": 3.0, \"Yearly Pay (USD)\": \"$120,000-$179,000\", \"What is the highest level of education you have completed?\": \"Bachelors Degree\", \"respondents\": 8, \"Percentage of respondents\": 0.17777777777777778}, {\"Experience\": \"21-30\", \"order\": 3.0, \"Yearly Pay (USD)\": \"$120,000-$179,000\", \"What is the highest level of education you have completed?\": \"Masters Degree (or similar graduate degree)\", \"respondents\": 9, \"Percentage of respondents\": 0.12857142857142856}, {\"Experience\": \"21-30\", \"order\": 3.0, \"Yearly Pay (USD)\": \"$120,000-$179,000\", \"What is the highest level of education you have completed?\": \"Ph.D.\", \"respondents\": 5, \"Percentage of respondents\": 0.2}, {\"Experience\": \"21-30\", \"order\": 4.0, \"Yearly Pay (USD)\": \"More than $180,000\", \"What is the highest level of education you have completed?\": \"Bachelors Degree\", \"respondents\": 3, \"Percentage of respondents\": 0.06666666666666667}, {\"Experience\": \"21-30\", \"order\": 4.0, \"Yearly Pay (USD)\": \"More than $180,000\", \"What is the highest level of education you have completed?\": \"Masters Degree (or similar graduate degree)\", \"respondents\": 5, \"Percentage of respondents\": 0.07142857142857142}, {\"Experience\": \"21-30\", \"order\": 4.0, \"Yearly Pay (USD)\": \"More than $180,000\", \"What is the highest level of education you have completed?\": \"Ph.D.\", \"respondents\": 2, \"Percentage of respondents\": 0.08}, {\"Experience\": \"5 or less\", \"order\": 0.0, \"Yearly Pay (USD)\": \"Less than $40,000\", \"What is the highest level of education you have completed?\": \"Bachelors Degree\", \"respondents\": 41, \"Percentage of respondents\": 0.2019704433497537}, {\"Experience\": \"5 or less\", \"order\": 0.0, \"Yearly Pay (USD)\": \"Less than $40,000\", \"What is the highest level of education you have completed?\": \"Masters Degree (or similar graduate degree)\", \"respondents\": 45, \"Percentage of respondents\": 0.1836734693877551}, {\"Experience\": \"5 or less\", \"order\": 0.0, \"Yearly Pay (USD)\": \"Less than $40,000\", \"What is the highest level of education you have completed?\": \"Ph.D.\", \"respondents\": 8, \"Percentage of respondents\": 0.17777777777777778}, {\"Experience\": \"5 or less\", \"order\": 1.0, \"Yearly Pay (USD)\": \"$40,000-$79,000\", \"What is the highest level of education you have completed?\": \"Bachelors Degree\", \"respondents\": 49, \"Percentage of respondents\": 0.2413793103448276}, {\"Experience\": \"5 or less\", \"order\": 1.0, \"Yearly Pay (USD)\": \"$40,000-$79,000\", \"What is the highest level of education you have completed?\": \"Masters Degree (or similar graduate degree)\", \"respondents\": 67, \"Percentage of respondents\": 0.27346938775510204}, {\"Experience\": \"5 or less\", \"order\": 1.0, \"Yearly Pay (USD)\": \"$40,000-$79,000\", \"What is the highest level of education you have completed?\": \"Ph.D.\", \"respondents\": 10, \"Percentage of respondents\": 0.2222222222222222}, {\"Experience\": \"5 or less\", \"order\": 2.0, \"Yearly Pay (USD)\": \"$80,000-$119,000\", \"What is the highest level of education you have completed?\": \"Bachelors Degree\", \"respondents\": 19, \"Percentage of respondents\": 0.09359605911330049}, {\"Experience\": \"5 or less\", \"order\": 2.0, \"Yearly Pay (USD)\": \"$80,000-$119,000\", \"What is the highest level of education you have completed?\": \"Masters Degree (or similar graduate degree)\", \"respondents\": 22, \"Percentage of respondents\": 0.08979591836734693}, {\"Experience\": \"5 or less\", \"order\": 2.0, \"Yearly Pay (USD)\": \"$80,000-$119,000\", \"What is the highest level of education you have completed?\": \"Ph.D.\", \"respondents\": 4, \"Percentage of respondents\": 0.08888888888888889}, {\"Experience\": \"5 or less\", \"order\": 3.0, \"Yearly Pay (USD)\": \"$120,000-$179,000\", \"What is the highest level of education you have completed?\": \"Bachelors Degree\", \"respondents\": 6, \"Percentage of respondents\": 0.029556650246305417}, {\"Experience\": \"5 or less\", \"order\": 3.0, \"Yearly Pay (USD)\": \"$120,000-$179,000\", \"What is the highest level of education you have completed?\": \"Masters Degree (or similar graduate degree)\", \"respondents\": 3, \"Percentage of respondents\": 0.012244897959183673}, {\"Experience\": \"5 or less\", \"order\": 3.0, \"Yearly Pay (USD)\": \"$120,000-$179,000\", \"What is the highest level of education you have completed?\": \"Ph.D.\", \"respondents\": 1, \"Percentage of respondents\": 0.022222222222222223}, {\"Experience\": \"5 or less\", \"order\": 4.0, \"Yearly Pay (USD)\": \"More than $180,000\", \"What is the highest level of education you have completed?\": \"Masters Degree (or similar graduate degree)\", \"respondents\": 2, \"Percentage of respondents\": 0.00816326530612245}, {\"Experience\": \"5 or less\", \"order\": 4.0, \"Yearly Pay (USD)\": \"More than $180,000\", \"What is the highest level of education you have completed?\": \"Ph.D.\", \"respondents\": 1, \"Percentage of respondents\": 0.022222222222222223}, {\"Experience\": \"5-10\", \"order\": 0.0, \"Yearly Pay (USD)\": \"Less than $40,000\", \"What is the highest level of education you have completed?\": \"Bachelors Degree\", \"respondents\": 14, \"Percentage of respondents\": 0.11023622047244094}, {\"Experience\": \"5-10\", \"order\": 0.0, \"Yearly Pay (USD)\": \"Less than $40,000\", \"What is the highest level of education you have completed?\": \"Masters Degree (or similar graduate degree)\", \"respondents\": 21, \"Percentage of respondents\": 0.084}, {\"Experience\": \"5-10\", \"order\": 0.0, \"Yearly Pay (USD)\": \"Less than $40,000\", \"What is the highest level of education you have completed?\": \"Ph.D.\", \"respondents\": 11, \"Percentage of respondents\": 0.15714285714285714}, {\"Experience\": \"5-10\", \"order\": 1.0, \"Yearly Pay (USD)\": \"$40,000-$79,000\", \"What is the highest level of education you have completed?\": \"Bachelors Degree\", \"respondents\": 29, \"Percentage of respondents\": 0.2283464566929134}, {\"Experience\": \"5-10\", \"order\": 1.0, \"Yearly Pay (USD)\": \"$40,000-$79,000\", \"What is the highest level of education you have completed?\": \"Masters Degree (or similar graduate degree)\", \"respondents\": 78, \"Percentage of respondents\": 0.312}, {\"Experience\": \"5-10\", \"order\": 1.0, \"Yearly Pay (USD)\": \"$40,000-$79,000\", \"What is the highest level of education you have completed?\": \"Ph.D.\", \"respondents\": 15, \"Percentage of respondents\": 0.21428571428571427}, {\"Experience\": \"5-10\", \"order\": 2.0, \"Yearly Pay (USD)\": \"$80,000-$119,000\", \"What is the highest level of education you have completed?\": \"Bachelors Degree\", \"respondents\": 22, \"Percentage of respondents\": 0.1732283464566929}, {\"Experience\": \"5-10\", \"order\": 2.0, \"Yearly Pay (USD)\": \"$80,000-$119,000\", \"What is the highest level of education you have completed?\": \"Masters Degree (or similar graduate degree)\", \"respondents\": 59, \"Percentage of respondents\": 0.236}, {\"Experience\": \"5-10\", \"order\": 2.0, \"Yearly Pay (USD)\": \"$80,000-$119,000\", \"What is the highest level of education you have completed?\": \"Ph.D.\", \"respondents\": 15, \"Percentage of respondents\": 0.21428571428571427}, {\"Experience\": \"5-10\", \"order\": 3.0, \"Yearly Pay (USD)\": \"$120,000-$179,000\", \"What is the highest level of education you have completed?\": \"Bachelors Degree\", \"respondents\": 10, \"Percentage of respondents\": 0.07874015748031496}, {\"Experience\": \"5-10\", \"order\": 3.0, \"Yearly Pay (USD)\": \"$120,000-$179,000\", \"What is the highest level of education you have completed?\": \"Masters Degree (or similar graduate degree)\", \"respondents\": 16, \"Percentage of respondents\": 0.064}, {\"Experience\": \"5-10\", \"order\": 3.0, \"Yearly Pay (USD)\": \"$120,000-$179,000\", \"What is the highest level of education you have completed?\": \"Ph.D.\", \"respondents\": 7, \"Percentage of respondents\": 0.1}, {\"Experience\": \"5-10\", \"order\": 4.0, \"Yearly Pay (USD)\": \"More than $180,000\", \"What is the highest level of education you have completed?\": \"Bachelors Degree\", \"respondents\": 1, \"Percentage of respondents\": 0.007874015748031496}, {\"Experience\": \"5-10\", \"order\": 4.0, \"Yearly Pay (USD)\": \"More than $180,000\", \"What is the highest level of education you have completed?\": \"Masters Degree (or similar graduate degree)\", \"respondents\": 2, \"Percentage of respondents\": 0.008}]}}, {\"mode\": \"vega-lite\"});\n",
       "</script>"
      ],
      "text/plain": [
       "alt.Chart(...)"
      ]
     },
     "execution_count": 176,
     "metadata": {},
     "output_type": "execute_result"
    }
   ],
   "source": [
    "education"
   ]
  }
 ],
 "metadata": {
  "kernelspec": {
   "display_name": "Python 3",
   "language": "python",
   "name": "python3"
  },
  "language_info": {
   "codemirror_mode": {
    "name": "ipython",
    "version": 3
   },
   "file_extension": ".py",
   "mimetype": "text/x-python",
   "name": "python",
   "nbconvert_exporter": "python",
   "pygments_lexer": "ipython3",
   "version": "3.7.4"
  }
 },
 "nbformat": 4,
 "nbformat_minor": 2
}
